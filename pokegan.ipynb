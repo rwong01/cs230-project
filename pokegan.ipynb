{
  "cells": [
    {
      "cell_type": "markdown",
      "metadata": {
        "id": "oLqHshr2y-MO"
      },
      "source": [
        "## Set Up"
      ]
    },
    {
      "cell_type": "code",
      "execution_count": null,
      "metadata": {
        "id": "najHDP7gMeFy"
      },
      "outputs": [],
      "source": [
        "%run git clone https://github.com/NVlabs/stylegan2-ada-pytorch.git"
      ]
    },
    {
      "cell_type": "code",
      "execution_count": null,
      "metadata": {
        "colab": {
          "base_uri": "https://localhost:8080/"
        },
        "id": "R7JvPMLWy95f",
        "outputId": "06e8ccd4-9855-4d74-ab67-e4d2a7965bc6"
      },
      "outputs": [
        {
          "name": "stdout",
          "output_type": "stream",
          "text": [
            "GPU 0: NVIDIA GeForce RTX 3060 Ti (UUID: GPU-c2b7788c-0694-aac8-958d-25b55b5238a3)\n"
          ]
        }
      ],
      "source": [
        "%run nvidia-smi -L"
      ]
    },
    {
      "cell_type": "code",
      "execution_count": null,
      "metadata": {
        "id": "A8r0Ca7Hpo5F"
      },
      "outputs": [],
      "source": [
        "import torch\n",
        "import torchvision"
      ]
    },
    {
      "cell_type": "markdown",
      "metadata": {
        "id": "2y195-nOz19D"
      },
      "source": [
        "Confirm GPU is accessible.\n"
      ]
    },
    {
      "cell_type": "code",
      "execution_count": null,
      "metadata": {
        "colab": {
          "base_uri": "https://localhost:8080/"
        },
        "id": "KV07xnKTprut",
        "outputId": "d86aceb4-aaa2-4759-ff7c-db398611c6d1"
      },
      "outputs": [
        {
          "data": {
            "text/plain": [
              "1"
            ]
          },
          "execution_count": 5,
          "metadata": {},
          "output_type": "execute_result"
        }
      ],
      "source": [
        "torch.cuda.is_available()"
      ]
    },
    {
      "cell_type": "markdown",
      "metadata": {
        "id": "Ts47XD8LaWsj"
      },
      "source": [
        "Confirm package requirements are met."
      ]
    },
    {
      "cell_type": "code",
      "execution_count": null,
      "metadata": {
        "id": "6jY44x99pusN"
      },
      "outputs": [],
      "source": [
        "%run pip install click requests tqdm pyspng ninja imageio-ffmpeg==0.4.3"
      ]
    },
    {
      "cell_type": "code",
      "execution_count": null,
      "metadata": {
        "id": "GCYmJ2Z60WSe"
      },
      "outputs": [],
      "source": [
        "mkdir datasets"
      ]
    },
    {
      "cell_type": "code",
      "execution_count": null,
      "metadata": {
        "id": "mof0WfW5bPH-"
      },
      "outputs": [],
      "source": [
        "mkdir training_outputs"
      ]
    },
    {
      "cell_type": "markdown",
      "metadata": {
        "id": "6lm1dbtHa-RH"
      },
      "source": [
        "## Dataset Prep"
      ]
    },
    {
      "cell_type": "markdown",
      "metadata": {
        "id": "xaxi_pNvbOxk"
      },
      "source": [
        "Use image downloader extension to grab images from https://pokemondb.net/pokedex/national. On Linux, install `imagemagick` and use `mogrify` to force image dimensions in place https://imagemagick.org/script/mogrify.php\n",
        "`mogrify -resize 128x128! *.png`\n"
      ]
    },
    {
      "cell_type": "code",
      "execution_count": null,
      "metadata": {
        "id": "dC2h7Chra8Ye"
      },
      "outputs": [],
      "source": [
        "import glob\n",
        "from PIL import Image\n",
        "\n",
        "images = glob.glob(\"./*.png\")\n",
        "# test = images[:5]\n",
        "for image in images:\n",
        "    with open(image, 'rb') as file:\n",
        "        img = Image.open(file)\n",
        "        if(img.mode != 'RGB'):\n",
        "          print(image)\n",
        "          rgb = img.convert('RGB')\n",
        "          rgb.save(image)\n",
        "        if(img.size != (128,128)):\n",
        "          print(image)"
      ]
    },
    {
      "cell_type": "markdown",
      "metadata": {
        "id": "kIkWgylfb_8v"
      },
      "source": [
        "Make sure `dataset_tool.py` completes without errors."
      ]
    },
    {
      "cell_type": "code",
      "execution_count": null,
      "metadata": {
        "id": "_szXOaO0WI00"
      },
      "outputs": [],
      "source": [
        "%run python dataset_tool.py --source=./datasets --dest=./datasets/dataset.zip"
      ]
    },
    {
      "cell_type": "markdown",
      "metadata": {
        "id": "HpR6A_qBAo8m"
      },
      "source": [
        "## Training\n",
        "\n",
        "If resuming a previous training add `--resume=./_path_/network-snapshot-xxxxx.pkl`\n",
        "Tried `gamma=10`, `gamma=1`, `gamma=0.1`, `batch=32` is too large with 1GPU,8GB VRAM, use `batch=16`\n"
      ]
    },
    {
      "cell_type": "code",
      "execution_count": null,
      "metadata": {
        "colab": {
          "base_uri": "https://localhost:8080/"
        },
        "id": "NuSkETl1V8pv",
        "outputId": "bb80c12c-633d-47fc-a452-0cd93fadedc1"
      },
      "outputs": [
        {
          "name": "stdout",
          "output_type": "stream",
          "text": [
            "^C\n"
          ]
        }
      ],
      "source": [
        "%run python train.py --outdir=./training_outputs/ --data=./datasets/dataset.zip --gpus=1 --augpipe=color --gamma=1 --cfg=auto --workers=4 --batch=16 --mirror=1 --snap=10 --metrics=none "
      ]
    },
    {
      "cell_type": "code",
      "execution_count": null,
      "metadata": {
        "id": "FVKoEXKTdz95"
      },
      "outputs": [],
      "source": [
        "%run python calc_metrics.py --metrics=pr50k3_full --network=./_path_/network-snapshot-xxxxx.pkl"
      ]
    },
    {
      "cell_type": "markdown",
      "metadata": {
        "id": "7XQtKZdJdzuv"
      },
      "source": []
    }
  ],
  "metadata": {
    "accelerator": "GPU",
    "colab": {
      "collapsed_sections": [],
      "machine_shape": "hm",
      "name": "Copy of stylegan2-ada-pytorch-pokemon.ipynb",
      "provenance": [],
      "toc_visible": true
    },
    "kernelspec": {
      "display_name": "Python 3",
      "name": "python3"
    }
  },
  "nbformat": 4,
  "nbformat_minor": 0
}
